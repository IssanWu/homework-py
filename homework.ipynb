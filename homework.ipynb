{
 "cells": [
  {
   "cell_type": "code",
   "execution_count": 3,
   "metadata": {},
   "outputs": [
    {
     "name": "stdout",
     "output_type": "stream",
     "text": [
      "Area:144.0\n"
     ]
    }
   ],
   "source": [
    "width=float(input(\"Enter your width value:  \"))\n",
    "height=float(input(\"Enter your height value:  \"))\n",
    "                   \n",
    "Area =width*height\n",
    "print(f'Area:{Area}')\n"
   ]
  },
  {
   "cell_type": "code",
   "execution_count": 4,
   "metadata": {},
   "outputs": [
    {
     "name": "stdout",
     "output_type": "stream",
     "text": [
      "The area of the triangle is:  3.0\n"
     ]
    }
   ],
   "source": [
    "base = float(input(\"enter the base of the triangle: \"))\n",
    "height = float(input(\" enter the height of the triangle: \"))\n",
    "\n",
    "area = 0.5 * base * height\n",
    "print(\"The area of the triangle is: \", area)"
   ]
  },
  {
   "cell_type": "code",
   "execution_count": 8,
   "metadata": {},
   "outputs": [
    {
     "name": "stdout",
     "output_type": "stream",
     "text": [
      "circle of area is 12\n"
     ]
    }
   ],
   "source": [
    "#To calculate the area of a circle given its radius (3.14 * (radius ** 2)).\n",
    "import math\n",
    "radius=float(input('enter the radius of the circle'))\n",
    "\n",
    "area = int(math.pi * (radius ** 2))\n",
    "\n",
    "print(\"circle of area is\",area)"
   ]
  },
  {
   "cell_type": "code",
   "execution_count": 21,
   "metadata": {},
   "outputs": [
    {
     "name": "stdout",
     "output_type": "stream",
     "text": [
      "average_score:60.0\n",
      "pass\n"
     ]
    }
   ],
   "source": [
    "# five subject( English ,Math,Physics,Writing,Programmming )\n",
    "\n",
    "English=int(input(\"Enter your English Score\"))\n",
    "Math=int(input(\"Enter your Math Score\"))\n",
    "Physics=int(input(\"Enter your physics Score\"))\n",
    "Writing=int(input(\"Enter your writing Score\"))\n",
    "Programming=int(input(\"Enter your programming Score\"))\n",
    "\n",
    "average_score=(English+Math+Physics+Writing+Programming)/5\n",
    "\n",
    "\n",
    "print(f'average_score:{average_score}')\n",
    "if average_score >=50:\n",
    "    print(\"pass\")\n",
    "else:\n",
    "    print(\"fail\")\n",
    "\n",
    "#\n"
   ]
  },
  {
   "cell_type": "markdown",
   "metadata": {},
   "source": []
  }
 ],
 "metadata": {
  "kernelspec": {
   "display_name": "base",
   "language": "python",
   "name": "python3"
  },
  "language_info": {
   "codemirror_mode": {
    "name": "ipython",
    "version": 3
   },
   "file_extension": ".py",
   "mimetype": "text/x-python",
   "name": "python",
   "nbconvert_exporter": "python",
   "pygments_lexer": "ipython3",
   "version": "3.11.7"
  }
 },
 "nbformat": 4,
 "nbformat_minor": 2
}
